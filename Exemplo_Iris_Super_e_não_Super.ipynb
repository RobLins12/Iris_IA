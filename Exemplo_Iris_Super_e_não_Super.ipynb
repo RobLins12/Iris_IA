{
  "nbformat": 4,
  "nbformat_minor": 0,
  "metadata": {
    "colab": {
      "provenance": [],
      "authorship_tag": "ABX9TyMRKYNHoKRk9LP6qdEb8z73",
      "include_colab_link": true
    },
    "kernelspec": {
      "name": "python3",
      "display_name": "Python 3"
    },
    "language_info": {
      "name": "python"
    }
  },
  "cells": [
    {
      "cell_type": "markdown",
      "metadata": {
        "id": "view-in-github",
        "colab_type": "text"
      },
      "source": [
        "<a href=\"https://colab.research.google.com/github/RobLins12/Iris_IA/blob/main/Exemplo_Iris_Super_e_n%C3%A3o_Super.ipynb\" target=\"_parent\"><img src=\"https://colab.research.google.com/assets/colab-badge.svg\" alt=\"Open In Colab\"/></a>"
      ]
    },
    {
      "cell_type": "markdown",
      "source": [
        "### 1. Importar os módulos necessários:"
      ],
      "metadata": {
        "id": "oRpSOxQzeqvr"
      }
    },
    {
      "cell_type": "code",
      "source": [
        "import numpy as np\n",
        "import pandas as pd\n",
        "import seaborn as sns\n",
        "import matplotlib.pyplot as plt\n",
        "\n",
        "from sklearn.preprocessing import MinMaxScaler\n",
        "from sklearn.model_selection import train_test_split\n",
        "\n",
        "from sklearn.neural_network import MLPClassifier\n",
        "from sklearn.cluster import KMeans\n",
        "\n",
        "from sklearn.metrics import accuracy_score, confusion_matrix"
      ],
      "metadata": {
        "id": "o72xVN95elfb"
      },
      "execution_count": 60,
      "outputs": []
    },
    {
      "cell_type": "markdown",
      "source": [
        "### 2. Importar e visualizar o dataset:\n"
      ],
      "metadata": {
        "id": "uNvZrjJoe-zc"
      }
    },
    {
      "cell_type": "code",
      "source": [
        "iris_df = sns.load_dataset('iris') # Carrega o dataset pelo seaborn\n",
        "iris_df.head(10)"
      ],
      "metadata": {
        "id": "S616DSb2fD8E"
      },
      "execution_count": null,
      "outputs": []
    },
    {
      "cell_type": "code",
      "source": [
        "iris_df.info()"
      ],
      "metadata": {
        "id": "ChwSl8difoO4"
      },
      "execution_count": null,
      "outputs": []
    },
    {
      "cell_type": "code",
      "source": [
        "sns.pairplot(iris_df, hue='species') # Mostra gráficos que consistem em pares de duas váriaveis, Hue = rótulo"
      ],
      "metadata": {
        "id": "tkup_ClogSec"
      },
      "execution_count": null,
      "outputs": []
    },
    {
      "cell_type": "markdown",
      "source": [
        "### 3. Tratar os dados\n"
      ],
      "metadata": {
        "id": "nuLS9I5Xifbv"
      }
    },
    {
      "cell_type": "code",
      "source": [
        "R = iris_df.drop(columns=['species']).values # Descarta a coluna espécie pois não é numerica"
      ],
      "metadata": {
        "id": "ix5pKC3AluvM"
      },
      "execution_count": 19,
      "outputs": []
    },
    {
      "cell_type": "code",
      "source": [
        "R_norm = MinMaxScaler().fit_transform(R) # Transforma os valores mapeando de 0 a 1"
      ],
      "metadata": {
        "id": "gnhb3pgql0jN"
      },
      "execution_count": 20,
      "outputs": []
    },
    {
      "cell_type": "code",
      "source": [
        "R_norm"
      ],
      "metadata": {
        "id": "F0jJVjJ-l0xU"
      },
      "execution_count": null,
      "outputs": []
    },
    {
      "cell_type": "code",
      "source": [
        "y = pd.get_dummies(iris_df['species'])"
      ],
      "metadata": {
        "id": "Tef1D4mnnSF2"
      },
      "execution_count": 26,
      "outputs": []
    },
    {
      "cell_type": "code",
      "source": [
        "y = y.values"
      ],
      "metadata": {
        "id": "5I5pCukhndOd"
      },
      "execution_count": 27,
      "outputs": []
    },
    {
      "cell_type": "code",
      "source": [
        "y"
      ],
      "metadata": {
        "id": "6jlAemlsoD59"
      },
      "execution_count": null,
      "outputs": []
    },
    {
      "cell_type": "code",
      "source": [
        "R_train, R_test, y_train, y_test = train_test_split(R_norm, y, test_size=0.3) # Divide o dataframe em treino e teste"
      ],
      "metadata": {
        "id": "G_QME1SloYYV"
      },
      "execution_count": 46,
      "outputs": []
    },
    {
      "cell_type": "markdown",
      "source": [
        "### 4. Treinamento e avaliação do modelo\n"
      ],
      "metadata": {
        "id": "gE8XxgPjp8nv"
      }
    },
    {
      "cell_type": "code",
      "source": [
        "mlp = MLPClassifier(max_iter=5000)\n",
        "mlp.fit(R_train, y_train)"
      ],
      "metadata": {
        "id": "TglSDlr3qM-A"
      },
      "execution_count": null,
      "outputs": []
    },
    {
      "cell_type": "code",
      "source": [
        "accuracy_score(y_test, mlp.predict(R_test))"
      ],
      "metadata": {
        "id": "Ak7KkpMxqtOg"
      },
      "execution_count": null,
      "outputs": []
    },
    {
      "cell_type": "code",
      "source": [
        "mlp.predict([R_test[0]])"
      ],
      "metadata": {
        "id": "WbRmNvpUtVEz"
      },
      "execution_count": null,
      "outputs": []
    },
    {
      "cell_type": "code",
      "source": [
        "confusion_matrix(np.argmax(y_test, axis=1), np.argmax(mlp.predict(R_test), axis=1))"
      ],
      "metadata": {
        "id": "yO_IJNaJukAA"
      },
      "execution_count": null,
      "outputs": []
    }
  ]
}